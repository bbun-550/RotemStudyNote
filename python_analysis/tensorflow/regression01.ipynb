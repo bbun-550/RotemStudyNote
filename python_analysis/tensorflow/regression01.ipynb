{
 "cells": [
  {
   "cell_type": "code",
   "execution_count": 1,
   "id": "31b6b631",
   "metadata": {},
   "outputs": [
    {
     "data": {
      "text/plain": [
       "'\\nRegression \\n문제1)\\nhttps://github.com/data-8/materials-fa17/blob/master/lec/galton.csv\\ndata를 이용해 아버지 키로 아들의 키를 예측하는 회귀분석 모델을 작성하시오.\\n - train / test 분리\\n - Sequential api와 function api 를 사용해 모델을 만들어 보시오.\\n - train과 test의 mse를 시각화 하시오\\n - 새로운 아버지 키에 대한 자료로 아들의 키를 예측하시오.\\n'"
      ]
     },
     "execution_count": 1,
     "metadata": {},
     "output_type": "execute_result"
    }
   ],
   "source": [
    "'''\n",
    "Regression \n",
    "문제1)\n",
    "https://github.com/data-8/materials-fa17/blob/master/lec/galton.csv\n",
    "data를 이용해 아버지 키로 아들의 키를 예측하는 회귀분석 모델을 작성하시오.\n",
    " - train / test 분리\n",
    " - Sequential api와 function api 를 사용해 모델을 만들어 보시오.\n",
    " - train과 test의 mse를 시각화 하시오\n",
    " - 새로운 아버지 키에 대한 자료로 아들의 키를 예측하시오.\n",
    "'''"
   ]
  },
  {
   "cell_type": "code",
   "execution_count": null,
   "id": "a8a032d1",
   "metadata": {},
   "outputs": [],
   "source": [
    "import pandas as pd\n",
    "import numpy as np\n",
    "from sklearn.model_selection import train_test_split\n",
    "from sklearn.metrics import r2_score, mean_squared_error\n",
    "import tensorflow as tf\n",
    "from keras.models import Sequential, Model\n",
    "from keras.layers import Dense, Input\n",
    "from keras import optimizers"
   ]
  },
  {
   "cell_type": "code",
   "execution_count": null,
   "id": "f7627c45",
   "metadata": {},
   "outputs": [
    {
     "name": "stdout",
     "output_type": "stream",
     "text": [
      "\u001b[1m5/5\u001b[0m \u001b[32m━━━━━━━━━━━━━━━━━━━━\u001b[0m\u001b[37m\u001b[0m \u001b[1m0s\u001b[0m 9ms/step \n",
      "예측값 :  [71.07677 66.07361 67.07424 69.0755  67.07424]\n",
      "실제값 :  [72.  65.  70.  67.5 67. ]\n",
      "mse :  8.669468863265495\n",
      "셜명력 :  -0.16662719476039967\n",
      "\u001b[1m1/1\u001b[0m \u001b[32m━━━━━━━━━━━━━━━━━━━━\u001b[0m\u001b[37m\u001b[0m \u001b[1m0s\u001b[0m 20ms/step\n",
      "아들 예상 키 :  [60.06983  70.076126 80.08243 ]\n"
     ]
    }
   ],
   "source": [
    "data = pd.read_csv('https://raw.githubusercontent.com/data-8/materials-fa17/refs/heads/master/lec/galton.csv')\n",
    "# print(data.head())\n",
    "# data.info()\n",
    "# print(data.columns)\n",
    "# print(data.gender.unique())\n",
    "\n",
    "if 'gender' in data.columns:\n",
    "    data = data[data['gender'].isin(['male'])]\n",
    "\n",
    "# print(data.gender.unique())\n",
    "\n",
    "feature = data[['father']].values\n",
    "label = data[['childHeight']].values\n",
    "\n",
    "# print(feature, label)\n",
    "# print(feature.ndim)\n",
    "\n",
    "# train/test split\n",
    "x_train, x_test, y_train, y_test = train_test_split(feature, label, test_size=0.3, random_state=42)\n",
    "# print(x_train.shape, x_test.shape, y_train.shape, y_test.shape)\n",
    "\n",
    "# Sequential api\n",
    "model = Sequential() # 계층 구조\n",
    "model.add(Input((1,)))  # 입력 차원: 1\n",
    "model.add(Dense(units=16, activation='relu'))\n",
    "# model.add(Dense(units=8, activation='relu'))\n",
    "model.add(Dense(units=1, activation='linear'))\n",
    "\n",
    "opti = optimizers.SGD(learning_rate=0.00001)\n",
    "model.compile(optimizer=opti, loss='mse', metrics=['mse'])  # 손실:MSE, 지표:MSE\n",
    "\n",
    "history = model.fit(x_train, y_train, batch_size=32, epochs=100, verbose=0)  # 학습 수행\n",
    "# loss_metrics = model.evaluate(x=x_train, y=y_train, verbose=0)  # 학습 데이터 평가\n",
    "# print('loss_metrics : ', loss_metrics)  # [loss, mse]\n",
    "\n",
    "\n",
    "y_pred = model.predict(x_test)  # 예측값 계산\n",
    "print('예측값 : ', y_pred.ravel()[:5])\n",
    "print('실제값 : ', y_test[:5].ravel())\n",
    "print('mse : ', mean_squared_error(y_test, y_pred)) # mse\n",
    "print('셜명력 : ', r2_score(y_test, y_pred))  # 설명력(R^2)\n",
    "\n",
    "# 새 데이터(n ,1)로 예측\n",
    "new_data = np.array([60., 70., 80.], dtype=np.float32).reshape(-1,1)  # 새로운 입력\n",
    "new_pred = model.predict(new_data).ravel()  # 새 입력 예측\n",
    "print('아들 예상 키 : ', new_pred)"
   ]
  },
  {
   "cell_type": "code",
   "execution_count": 86,
   "id": "935e6a9a",
   "metadata": {},
   "outputs": [
    {
     "name": "stdout",
     "output_type": "stream",
     "text": [
      "\u001b[1m5/5\u001b[0m \u001b[32m━━━━━━━━━━━━━━━━━━━━\u001b[0m\u001b[37m\u001b[0m \u001b[1m0s\u001b[0m 8ms/step \n",
      "예측값 :  [70.88303 65.89182 66.89007 68.88654 66.89007]\n",
      "실제값 :  [72.  65.  70.  67.5 67. ]\n",
      "셜명력 :  -0.1696947766378858\n",
      "\u001b[1m1/1\u001b[0m \u001b[32m━━━━━━━━━━━━━━━━━━━━\u001b[0m\u001b[37m\u001b[0m \u001b[1m0s\u001b[0m 19ms/step\n",
      "아들 예상 키 :  [59.90239 69.88479 79.86719]\n"
     ]
    }
   ],
   "source": [
    "data = pd.read_csv('https://raw.githubusercontent.com/data-8/materials-fa17/refs/heads/master/lec/galton.csv')\n",
    "\n",
    "if 'gender' in data.columns:\n",
    "    data = data[data['gender'].isin(['male'])]\n",
    "\n",
    "feature = data[['father']].values\n",
    "label = data[['childHeight']].values\n",
    "\n",
    "# train/test split\n",
    "x_train, x_test, y_train, y_test = train_test_split(feature, label, test_size=0.3, random_state=42)\n",
    "\n",
    "# function api\n",
    "inputs = Input(shape=(1,))\n",
    "output1 = Dense(16, activation='relu')(inputs)  # 은닉층\n",
    "# output2 = Dense(8, activation='relu')(output1)  # 은닉층\n",
    "output3 = Dense(1, activation='linear')(output1)  # 출력층(회귀)\n",
    "model2 = Model(inputs, output3)  # 입출력으로 모델 생성\n",
    "\n",
    "opti2 = optimizers.SGD(learning_rate=0.00001)\n",
    "model2.compile(optimizer=opti2, loss='mse', metrics=['mse'])  # 손실:MSE, 지표:MSE\n",
    "\n",
    "history = model2.fit(x_train, y_train, batch_size=16, epochs=100, verbose=0, validation_data=(x_test, y_test))  # 학습 수행\n",
    "# loss_metrics = model.evaluate(x=x_train, y=y_train, verbose=0)  # 학습 데이터 평가\n",
    "# print('loss_metrics : ', loss_metrics)  # [loss, mse]\n",
    "\n",
    "\n",
    "y_pred = model2.predict(x_test)  # 예측값 계산\n",
    "\n",
    "print('예측값 : ', y_pred.ravel()[:5])\n",
    "print('실제값 : ', y_test[:5].ravel())\n",
    "print('셜명력 : ', r2_score(y_test, y_pred))  # 설명력(R^2)\n",
    "\n",
    "# 새 데이터(n ,1)로 예측\n",
    "new_data = np.array([60., 70., 80.], dtype=np.float32).reshape(-1,1)  # 새로운 입력\n",
    "new_pred = model2.predict(new_data).ravel()  # 새 입력 예측\n",
    "print('아들 예상 키 : ', new_pred)\n",
    "\n"
   ]
  },
  {
   "cell_type": "code",
   "execution_count": 80,
   "id": "25218c87",
   "metadata": {},
   "outputs": [
    {
     "data": {
      "image/png": "[encoded data removed]",
      "text/plain": [
       "<Figure size 640x480 with 1 Axes>"
      ]
     },
     "metadata": {},
     "output_type": "display_data"
    }
   ],
   "source": [
    "import matplotlib.pyplot as plt\n",
    "plt.plot(history.history['mse'], 'r--', label='train mse')\n",
    "plt.plot(history.history['val_mse'], 'g-', label='test mse')\n",
    "plt.xlabel('epoch')\n",
    "plt.ylabel('MSE')\n",
    "plt.legend()\n",
    "plt.show()\n",
    "plt.close()"
   ]
  },
  {
   "cell_type": "code",
   "execution_count": null,
   "id": "d71590e2",
   "metadata": {},
   "outputs": [],
   "source": []
  }
 ],
 "metadata": {
  "kernelspec": {
   "display_name": "tf-mac-metal",
   "language": "python",
   "name": "python3"
  },
  "language_info": {
   "codemirror_mode": {
    "name": "ipython",
    "version": 3
   },
   "file_extension": ".py",
   "mimetype": "text/x-python",
   "name": "python",
   "nbconvert_exporter": "python",
   "pygments_lexer": "ipython3",
   "version": "3.11.13"
  }
 },
 "nbformat": 4,
 "nbformat_minor": 5
}
