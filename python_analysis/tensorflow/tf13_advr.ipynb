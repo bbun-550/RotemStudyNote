{
 "cells": [
  {
   "cell_type": "code",
   "execution_count": 4,
   "id": "95cbedca",
   "metadata": {},
   "outputs": [],
   "source": [
    "import pandas as pd\n",
    "import numpy as np\n",
    "import matplotlib.pyplot as plt\n",
    "import tensorflow as tf\n",
    "from sklearn.model_selection import train_test_split\n",
    "from sklearn.preprocessing import StandardScaler, RobustScaler, minmax_scale\n",
    "from sklearn.metrics import r2_score\n",
    "from keras.models import Sequential, Model\n",
    "from keras.layers import Dense, Input\n",
    "from keras import optimizers"
   ]
  },
  {
   "cell_type": "code",
   "execution_count": 9,
   "id": "cbcc2c4e",
   "metadata": {},
   "outputs": [
    {
     "name": "stdout",
     "output_type": "stream",
     "text": [
      "[[0.77578627 0.76209677 0.60598065]\n",
      " [0.1481231  0.79233871 0.39401935]\n",
      " [0.0557998  0.92540323 0.60686016]]\n"
     ]
    },
    {
     "data": {
      "text/html": [
       "<pre style=\"white-space:pre;overflow-x:auto;line-height:normal;font-family:Menlo,'DejaVu Sans Mono',consolas,'Courier New',monospace\"><span style=\"font-weight: bold\">Model: \"sequential_5\"</span>\n",
       "</pre>\n"
      ],
      "text/plain": [
       "\u001b[1mModel: \"sequential_5\"\u001b[0m\n"
      ]
     },
     "metadata": {},
     "output_type": "display_data"
    },
    {
     "data": {
      "text/html": [
       "<pre style=\"white-space:pre;overflow-x:auto;line-height:normal;font-family:Menlo,'DejaVu Sans Mono',consolas,'Courier New',monospace\">┏━━━━━━━━━━━━━━━━━━━━━━━━━━━━━━━━━┳━━━━━━━━━━━━━━━━━━━━━━━━┳━━━━━━━━━━━━━━━┓\n",
       "┃<span style=\"font-weight: bold\"> Layer (type)                    </span>┃<span style=\"font-weight: bold\"> Output Shape           </span>┃<span style=\"font-weight: bold\">       Param # </span>┃\n",
       "┡━━━━━━━━━━━━━━━━━━━━━━━━━━━━━━━━━╇━━━━━━━━━━━━━━━━━━━━━━━━╇━━━━━━━━━━━━━━━┩\n",
       "│ dense_15 (<span style=\"color: #0087ff; text-decoration-color: #0087ff\">Dense</span>)                │ (<span style=\"color: #00d7ff; text-decoration-color: #00d7ff\">None</span>, <span style=\"color: #00af00; text-decoration-color: #00af00\">16</span>)             │            <span style=\"color: #00af00; text-decoration-color: #00af00\">64</span> │\n",
       "├─────────────────────────────────┼────────────────────────┼───────────────┤\n",
       "│ dense_16 (<span style=\"color: #0087ff; text-decoration-color: #0087ff\">Dense</span>)                │ (<span style=\"color: #00d7ff; text-decoration-color: #00d7ff\">None</span>, <span style=\"color: #00af00; text-decoration-color: #00af00\">8</span>)              │           <span style=\"color: #00af00; text-decoration-color: #00af00\">136</span> │\n",
       "├─────────────────────────────────┼────────────────────────┼───────────────┤\n",
       "│ dense_17 (<span style=\"color: #0087ff; text-decoration-color: #0087ff\">Dense</span>)                │ (<span style=\"color: #00d7ff; text-decoration-color: #00d7ff\">None</span>, <span style=\"color: #00af00; text-decoration-color: #00af00\">1</span>)              │             <span style=\"color: #00af00; text-decoration-color: #00af00\">9</span> │\n",
       "└─────────────────────────────────┴────────────────────────┴───────────────┘\n",
       "</pre>\n"
      ],
      "text/plain": [
       "┏━━━━━━━━━━━━━━━━━━━━━━━━━━━━━━━━━┳━━━━━━━━━━━━━━━━━━━━━━━━┳━━━━━━━━━━━━━━━┓\n",
       "┃\u001b[1m \u001b[0m\u001b[1mLayer (type)                   \u001b[0m\u001b[1m \u001b[0m┃\u001b[1m \u001b[0m\u001b[1mOutput Shape          \u001b[0m\u001b[1m \u001b[0m┃\u001b[1m \u001b[0m\u001b[1m      Param #\u001b[0m\u001b[1m \u001b[0m┃\n",
       "┡━━━━━━━━━━━━━━━━━━━━━━━━━━━━━━━━━╇━━━━━━━━━━━━━━━━━━━━━━━━╇━━━━━━━━━━━━━━━┩\n",
       "│ dense_15 (\u001b[38;5;33mDense\u001b[0m)                │ (\u001b[38;5;45mNone\u001b[0m, \u001b[38;5;34m16\u001b[0m)             │            \u001b[38;5;34m64\u001b[0m │\n",
       "├─────────────────────────────────┼────────────────────────┼───────────────┤\n",
       "│ dense_16 (\u001b[38;5;33mDense\u001b[0m)                │ (\u001b[38;5;45mNone\u001b[0m, \u001b[38;5;34m8\u001b[0m)              │           \u001b[38;5;34m136\u001b[0m │\n",
       "├─────────────────────────────────┼────────────────────────┼───────────────┤\n",
       "│ dense_17 (\u001b[38;5;33mDense\u001b[0m)                │ (\u001b[38;5;45mNone\u001b[0m, \u001b[38;5;34m1\u001b[0m)              │             \u001b[38;5;34m9\u001b[0m │\n",
       "└─────────────────────────────────┴────────────────────────┴───────────────┘\n"
      ]
     },
     "metadata": {},
     "output_type": "display_data"
    },
    {
     "data": {
      "text/html": [
       "<pre style=\"white-space:pre;overflow-x:auto;line-height:normal;font-family:Menlo,'DejaVu Sans Mono',consolas,'Courier New',monospace\"><span style=\"font-weight: bold\"> Total params: </span><span style=\"color: #00af00; text-decoration-color: #00af00\">209</span> (836.00 B)\n",
       "</pre>\n"
      ],
      "text/plain": [
       "\u001b[1m Total params: \u001b[0m\u001b[38;5;34m209\u001b[0m (836.00 B)\n"
      ]
     },
     "metadata": {},
     "output_type": "display_data"
    },
    {
     "data": {
      "text/html": [
       "<pre style=\"white-space:pre;overflow-x:auto;line-height:normal;font-family:Menlo,'DejaVu Sans Mono',consolas,'Courier New',monospace\"><span style=\"font-weight: bold\"> Trainable params: </span><span style=\"color: #00af00; text-decoration-color: #00af00\">209</span> (836.00 B)\n",
       "</pre>\n"
      ],
      "text/plain": [
       "\u001b[1m Trainable params: \u001b[0m\u001b[38;5;34m209\u001b[0m (836.00 B)\n"
      ]
     },
     "metadata": {},
     "output_type": "display_data"
    },
    {
     "data": {
      "text/html": [
       "<pre style=\"white-space:pre;overflow-x:auto;line-height:normal;font-family:Menlo,'DejaVu Sans Mono',consolas,'Courier New',monospace\"><span style=\"font-weight: bold\"> Non-trainable params: </span><span style=\"color: #00af00; text-decoration-color: #00af00\">0</span> (0.00 B)\n",
       "</pre>\n"
      ],
      "text/plain": [
       "\u001b[1m Non-trainable params: \u001b[0m\u001b[38;5;34m0\u001b[0m (0.00 B)\n"
      ]
     },
     "metadata": {},
     "output_type": "display_data"
    },
    {
     "name": "stdout",
     "output_type": "stream",
     "text": [
      "None\n",
      "Epoch 1/100\n",
      "\u001b[1m4/4\u001b[0m \u001b[32m━━━━━━━━━━━━━━━━━━━━\u001b[0m\u001b[37m\u001b[0m \u001b[1m1s\u001b[0m 53ms/step - loss: 209.8096 - mse: 209.8096 - val_loss: 276.7978 - val_mse: 276.7978\n",
      "Epoch 2/100\n",
      "\u001b[1m4/4\u001b[0m \u001b[32m━━━━━━━━━━━━━━━━━━━━\u001b[0m\u001b[37m\u001b[0m \u001b[1m0s\u001b[0m 17ms/step - loss: 207.6062 - mse: 207.6062 - val_loss: 274.1388 - val_mse: 274.1388\n",
      "Epoch 3/100\n",
      "\u001b[1m4/4\u001b[0m \u001b[32m━━━━━━━━━━━━━━━━━━━━\u001b[0m\u001b[37m\u001b[0m \u001b[1m0s\u001b[0m 17ms/step - loss: 205.5705 - mse: 205.5705 - val_loss: 271.5009 - val_mse: 271.5009\n",
      "Epoch 4/100\n",
      "\u001b[1m4/4\u001b[0m \u001b[32m━━━━━━━━━━━━━━━━━━━━\u001b[0m\u001b[37m\u001b[0m \u001b[1m0s\u001b[0m 16ms/step - loss: 203.4172 - mse: 203.4172 - val_loss: 268.9042 - val_mse: 268.9042\n",
      "Epoch 5/100\n",
      "\u001b[1m4/4\u001b[0m \u001b[32m━━━━━━━━━━━━━━━━━━━━\u001b[0m\u001b[37m\u001b[0m \u001b[1m0s\u001b[0m 16ms/step - loss: 201.3392 - mse: 201.3392 - val_loss: 266.3553 - val_mse: 266.3553\n",
      "Epoch 6/100\n",
      "\u001b[1m4/4\u001b[0m \u001b[32m━━━━━━━━━━━━━━━━━━━━\u001b[0m\u001b[37m\u001b[0m \u001b[1m0s\u001b[0m 16ms/step - loss: 199.3036 - mse: 199.3036 - val_loss: 263.9004 - val_mse: 263.9004\n",
      "Epoch 7/100\n",
      "\u001b[1m4/4\u001b[0m \u001b[32m━━━━━━━━━━━━━━━━━━━━\u001b[0m\u001b[37m\u001b[0m \u001b[1m0s\u001b[0m 20ms/step - loss: 197.3147 - mse: 197.3147 - val_loss: 261.5193 - val_mse: 261.5193\n",
      "Epoch 8/100\n",
      "\u001b[1m4/4\u001b[0m \u001b[32m━━━━━━━━━━━━━━━━━━━━\u001b[0m\u001b[37m\u001b[0m \u001b[1m0s\u001b[0m 16ms/step - loss: 195.3853 - mse: 195.3853 - val_loss: 259.1976 - val_mse: 259.1976\n",
      "Epoch 9/100\n",
      "\u001b[1m4/4\u001b[0m \u001b[32m━━━━━━━━━━━━━━━━━━━━\u001b[0m\u001b[37m\u001b[0m \u001b[1m0s\u001b[0m 16ms/step - loss: 193.5480 - mse: 193.5480 - val_loss: 256.9057 - val_mse: 256.9057\n",
      "Epoch 10/100\n",
      "\u001b[1m4/4\u001b[0m \u001b[32m━━━━━━━━━━━━━━━━━━━━\u001b[0m\u001b[37m\u001b[0m \u001b[1m0s\u001b[0m 16ms/step - loss: 191.7573 - mse: 191.7573 - val_loss: 254.6276 - val_mse: 254.6276\n",
      "Epoch 11/100\n",
      "\u001b[1m4/4\u001b[0m \u001b[32m━━━━━━━━━━━━━━━━━━━━\u001b[0m\u001b[37m\u001b[0m \u001b[1m0s\u001b[0m 16ms/step - loss: 189.8415 - mse: 189.8415 - val_loss: 252.3482 - val_mse: 252.3482\n",
      "Epoch 12/100\n",
      "\u001b[1m4/4\u001b[0m \u001b[32m━━━━━━━━━━━━━━━━━━━━\u001b[0m\u001b[37m\u001b[0m \u001b[1m0s\u001b[0m 16ms/step - loss: 188.0710 - mse: 188.0710 - val_loss: 249.9795 - val_mse: 249.9795\n",
      "Epoch 13/100\n",
      "\u001b[1m4/4\u001b[0m \u001b[32m━━━━━━━━━━━━━━━━━━━━\u001b[0m\u001b[37m\u001b[0m \u001b[1m0s\u001b[0m 16ms/step - loss: 186.1672 - mse: 186.1672 - val_loss: 247.5631 - val_mse: 247.5631\n",
      "Epoch 14/100\n",
      "\u001b[1m4/4\u001b[0m \u001b[32m━━━━━━━━━━━━━━━━━━━━\u001b[0m\u001b[37m\u001b[0m \u001b[1m0s\u001b[0m 16ms/step - loss: 184.2414 - mse: 184.2414 - val_loss: 245.1081 - val_mse: 245.1081\n",
      "Epoch 15/100\n",
      "\u001b[1m4/4\u001b[0m \u001b[32m━━━━━━━━━━━━━━━━━━━━\u001b[0m\u001b[37m\u001b[0m \u001b[1m0s\u001b[0m 16ms/step - loss: 182.2362 - mse: 182.2362 - val_loss: 242.6058 - val_mse: 242.6058\n",
      "Epoch 16/100\n",
      "\u001b[1m4/4\u001b[0m \u001b[32m━━━━━━━━━━━━━━━━━━━━\u001b[0m\u001b[37m\u001b[0m \u001b[1m0s\u001b[0m 17ms/step - loss: 180.1955 - mse: 180.1955 - val_loss: 240.0683 - val_mse: 240.0683\n",
      "Epoch 17/100\n",
      "\u001b[1m4/4\u001b[0m \u001b[32m━━━━━━━━━━━━━━━━━━━━\u001b[0m\u001b[37m\u001b[0m \u001b[1m0s\u001b[0m 18ms/step - loss: 178.1510 - mse: 178.1510 - val_loss: 237.4820 - val_mse: 237.4820\n",
      "Epoch 18/100\n",
      "\u001b[1m4/4\u001b[0m \u001b[32m━━━━━━━━━━━━━━━━━━━━\u001b[0m\u001b[37m\u001b[0m \u001b[1m0s\u001b[0m 17ms/step - loss: 176.0641 - mse: 176.0641 - val_loss: 234.8037 - val_mse: 234.8037\n",
      "Epoch 19/100\n",
      "\u001b[1m4/4\u001b[0m \u001b[32m━━━━━━━━━━━━━━━━━━━━\u001b[0m\u001b[37m\u001b[0m \u001b[1m0s\u001b[0m 17ms/step - loss: 173.9044 - mse: 173.9044 - val_loss: 232.0438 - val_mse: 232.0438\n",
      "Epoch 20/100\n",
      "\u001b[1m4/4\u001b[0m \u001b[32m━━━━━━━━━━━━━━━━━━━━\u001b[0m\u001b[37m\u001b[0m \u001b[1m0s\u001b[0m 18ms/step - loss: 171.6512 - mse: 171.6512 - val_loss: 229.1962 - val_mse: 229.1962\n",
      "Epoch 21/100\n",
      "\u001b[1m4/4\u001b[0m \u001b[32m━━━━━━━━━━━━━━━━━━━━\u001b[0m\u001b[37m\u001b[0m \u001b[1m0s\u001b[0m 16ms/step - loss: 169.4025 - mse: 169.4025 - val_loss: 226.2354 - val_mse: 226.2354\n",
      "Epoch 22/100\n",
      "\u001b[1m4/4\u001b[0m \u001b[32m━━━━━━━━━━━━━━━━━━━━\u001b[0m\u001b[37m\u001b[0m \u001b[1m0s\u001b[0m 18ms/step - loss: 166.9746 - mse: 166.9746 - val_loss: 223.2084 - val_mse: 223.2084\n",
      "Epoch 23/100\n",
      "\u001b[1m4/4\u001b[0m \u001b[32m━━━━━━━━━━━━━━━━━━━━\u001b[0m\u001b[37m\u001b[0m \u001b[1m0s\u001b[0m 16ms/step - loss: 164.5618 - mse: 164.5618 - val_loss: 220.0850 - val_mse: 220.0850\n",
      "Epoch 24/100\n",
      "\u001b[1m4/4\u001b[0m \u001b[32m━━━━━━━━━━━━━━━━━━━━\u001b[0m\u001b[37m\u001b[0m \u001b[1m0s\u001b[0m 17ms/step - loss: 161.9936 - mse: 161.9936 - val_loss: 216.8662 - val_mse: 216.8662\n",
      "Epoch 25/100\n",
      "\u001b[1m4/4\u001b[0m \u001b[32m━━━━━━━━━━━━━━━━━━━━\u001b[0m\u001b[37m\u001b[0m \u001b[1m0s\u001b[0m 17ms/step - loss: 159.4065 - mse: 159.4065 - val_loss: 213.5243 - val_mse: 213.5243\n",
      "Epoch 26/100\n",
      "\u001b[1m4/4\u001b[0m \u001b[32m━━━━━━━━━━━━━━━━━━━━\u001b[0m\u001b[37m\u001b[0m \u001b[1m0s\u001b[0m 17ms/step - loss: 156.7272 - mse: 156.7272 - val_loss: 210.0937 - val_mse: 210.0937\n",
      "Epoch 27/100\n",
      "\u001b[1m4/4\u001b[0m \u001b[32m━━━━━━━━━━━━━━━━━━━━\u001b[0m\u001b[37m\u001b[0m \u001b[1m0s\u001b[0m 17ms/step - loss: 153.8972 - mse: 153.8972 - val_loss: 206.5744 - val_mse: 206.5744\n",
      "Epoch 28/100\n",
      "\u001b[1m4/4\u001b[0m \u001b[32m━━━━━━━━━━━━━━━━━━━━\u001b[0m\u001b[37m\u001b[0m \u001b[1m0s\u001b[0m 17ms/step - loss: 151.0376 - mse: 151.0376 - val_loss: 202.9040 - val_mse: 202.9040\n",
      "Epoch 29/100\n",
      "\u001b[1m4/4\u001b[0m \u001b[32m━━━━━━━━━━━━━━━━━━━━\u001b[0m\u001b[37m\u001b[0m \u001b[1m0s\u001b[0m 17ms/step - loss: 148.0339 - mse: 148.0339 - val_loss: 199.1085 - val_mse: 199.1085\n",
      "Epoch 30/100\n",
      "\u001b[1m4/4\u001b[0m \u001b[32m━━━━━━━━━━━━━━━━━━━━\u001b[0m\u001b[37m\u001b[0m \u001b[1m0s\u001b[0m 17ms/step - loss: 145.0780 - mse: 145.0780 - val_loss: 195.1634 - val_mse: 195.1634\n",
      "Epoch 31/100\n",
      "\u001b[1m4/4\u001b[0m \u001b[32m━━━━━━━━━━━━━━━━━━━━\u001b[0m\u001b[37m\u001b[0m \u001b[1m0s\u001b[0m 17ms/step - loss: 141.8622 - mse: 141.8622 - val_loss: 191.1423 - val_mse: 191.1423\n",
      "Epoch 32/100\n",
      "\u001b[1m4/4\u001b[0m \u001b[32m━━━━━━━━━━━━━━━━━━━━\u001b[0m\u001b[37m\u001b[0m \u001b[1m0s\u001b[0m 17ms/step - loss: 138.6735 - mse: 138.6735 - val_loss: 186.9876 - val_mse: 186.9876\n",
      "Epoch 33/100\n",
      "\u001b[1m4/4\u001b[0m \u001b[32m━━━━━━━━━━━━━━━━━━━━\u001b[0m\u001b[37m\u001b[0m \u001b[1m0s\u001b[0m 17ms/step - loss: 135.3108 - mse: 135.3108 - val_loss: 182.7733 - val_mse: 182.7733\n",
      "Epoch 34/100\n",
      "\u001b[1m4/4\u001b[0m \u001b[32m━━━━━━━━━━━━━━━━━━━━\u001b[0m\u001b[37m\u001b[0m \u001b[1m0s\u001b[0m 17ms/step - loss: 132.0179 - mse: 132.0179 - val_loss: 178.4675 - val_mse: 178.4675\n",
      "Epoch 35/100\n",
      "\u001b[1m4/4\u001b[0m \u001b[32m━━━━━━━━━━━━━━━━━━━━\u001b[0m\u001b[37m\u001b[0m \u001b[1m0s\u001b[0m 17ms/step - loss: 128.4989 - mse: 128.4989 - val_loss: 174.1305 - val_mse: 174.1305\n",
      "Epoch 36/100\n",
      "\u001b[1m4/4\u001b[0m \u001b[32m━━━━━━━━━━━━━━━━━━━━\u001b[0m\u001b[37m\u001b[0m \u001b[1m0s\u001b[0m 19ms/step - loss: 125.0909 - mse: 125.0909 - val_loss: 169.6775 - val_mse: 169.6775\n",
      "Epoch 37/100\n",
      "\u001b[1m4/4\u001b[0m \u001b[32m━━━━━━━━━━━━━━━━━━━━\u001b[0m\u001b[37m\u001b[0m \u001b[1m0s\u001b[0m 19ms/step - loss: 121.4798 - mse: 121.4798 - val_loss: 165.1765 - val_mse: 165.1765\n",
      "Epoch 38/100\n",
      "\u001b[1m4/4\u001b[0m \u001b[32m━━━━━━━━━━━━━━━━━━━━\u001b[0m\u001b[37m\u001b[0m \u001b[1m0s\u001b[0m 17ms/step - loss: 117.9473 - mse: 117.9473 - val_loss: 160.5830 - val_mse: 160.5830\n",
      "Epoch 39/100\n",
      "\u001b[1m4/4\u001b[0m \u001b[32m━━━━━━━━━━━━━━━━━━━━\u001b[0m\u001b[37m\u001b[0m \u001b[1m0s\u001b[0m 17ms/step - loss: 114.2853 - mse: 114.2853 - val_loss: 155.9220 - val_mse: 155.9220\n",
      "Epoch 40/100\n",
      "\u001b[1m4/4\u001b[0m \u001b[32m━━━━━━━━━━━━━━━━━━━━\u001b[0m\u001b[37m\u001b[0m \u001b[1m0s\u001b[0m 17ms/step - loss: 110.7051 - mse: 110.7051 - val_loss: 151.1769 - val_mse: 151.1769\n",
      "Epoch 41/100\n",
      "\u001b[1m4/4\u001b[0m \u001b[32m━━━━━━━━━━━━━━━━━━━━\u001b[0m\u001b[37m\u001b[0m \u001b[1m0s\u001b[0m 17ms/step - loss: 106.9560 - mse: 106.9560 - val_loss: 146.4272 - val_mse: 146.4272\n",
      "Epoch 42/100\n",
      "\u001b[1m4/4\u001b[0m \u001b[32m━━━━━━━━━━━━━━━━━━━━\u001b[0m\u001b[37m\u001b[0m \u001b[1m0s\u001b[0m 17ms/step - loss: 103.1645 - mse: 103.1645 - val_loss: 141.6525 - val_mse: 141.6525\n",
      "Epoch 43/100\n",
      "\u001b[1m4/4\u001b[0m \u001b[32m━━━━━━━━━━━━━━━━━━━━\u001b[0m\u001b[37m\u001b[0m \u001b[1m0s\u001b[0m 17ms/step - loss: 99.4377 - mse: 99.4377 - val_loss: 136.8384 - val_mse: 136.8384\n",
      "Epoch 44/100\n",
      "\u001b[1m4/4\u001b[0m \u001b[32m━━━━━━━━━━━━━━━━━━━━\u001b[0m\u001b[37m\u001b[0m \u001b[1m0s\u001b[0m 17ms/step - loss: 95.6174 - mse: 95.6174 - val_loss: 132.0506 - val_mse: 132.0506\n",
      "Epoch 45/100\n",
      "\u001b[1m4/4\u001b[0m \u001b[32m━━━━━━━━━━━━━━━━━━━━\u001b[0m\u001b[37m\u001b[0m \u001b[1m0s\u001b[0m 17ms/step - loss: 91.8498 - mse: 91.8498 - val_loss: 127.2276 - val_mse: 127.2276\n",
      "Epoch 46/100\n",
      "\u001b[1m4/4\u001b[0m \u001b[32m━━━━━━━━━━━━━━━━━━━━\u001b[0m\u001b[37m\u001b[0m \u001b[1m0s\u001b[0m 16ms/step - loss: 88.2131 - mse: 88.2131 - val_loss: 122.3302 - val_mse: 122.3302\n",
      "Epoch 47/100\n",
      "\u001b[1m4/4\u001b[0m \u001b[32m━━━━━━━━━━━━━━━━━━━━\u001b[0m\u001b[37m\u001b[0m \u001b[1m0s\u001b[0m 20ms/step - loss: 84.3345 - mse: 84.3345 - val_loss: 117.5389 - val_mse: 117.5389\n",
      "Epoch 48/100\n",
      "\u001b[1m4/4\u001b[0m \u001b[32m━━━━━━━━━━━━━━━━━━━━\u001b[0m\u001b[37m\u001b[0m \u001b[1m0s\u001b[0m 17ms/step - loss: 80.6078 - mse: 80.6078 - val_loss: 112.7431 - val_mse: 112.7431\n",
      "Epoch 49/100\n",
      "\u001b[1m4/4\u001b[0m \u001b[32m━━━━━━━━━━━━━━━━━━━━\u001b[0m\u001b[37m\u001b[0m \u001b[1m0s\u001b[0m 17ms/step - loss: 76.9230 - mse: 76.9230 - val_loss: 107.9696 - val_mse: 107.9696\n",
      "Epoch 50/100\n",
      "\u001b[1m4/4\u001b[0m \u001b[32m━━━━━━━━━━━━━━━━━━━━\u001b[0m\u001b[37m\u001b[0m \u001b[1m0s\u001b[0m 18ms/step - loss: 73.2574 - mse: 73.2574 - val_loss: 103.2343 - val_mse: 103.2343\n",
      "Epoch 51/100\n",
      "\u001b[1m4/4\u001b[0m \u001b[32m━━━━━━━━━━━━━━━━━━━━\u001b[0m\u001b[37m\u001b[0m \u001b[1m0s\u001b[0m 17ms/step - loss: 69.5782 - mse: 69.5782 - val_loss: 98.6005 - val_mse: 98.6005\n",
      "Epoch 52/100\n",
      "\u001b[1m4/4\u001b[0m \u001b[32m━━━━━━━━━━━━━━━━━━━━\u001b[0m\u001b[37m\u001b[0m \u001b[1m0s\u001b[0m 17ms/step - loss: 66.1314 - mse: 66.1314 - val_loss: 93.9682 - val_mse: 93.9682\n",
      "Epoch 53/100\n",
      "\u001b[1m4/4\u001b[0m \u001b[32m━━━━━━━━━━━━━━━━━━━━\u001b[0m\u001b[37m\u001b[0m \u001b[1m0s\u001b[0m 17ms/step - loss: 62.5662 - mse: 62.5662 - val_loss: 89.4767 - val_mse: 89.4767\n",
      "Epoch 54/100\n",
      "\u001b[1m4/4\u001b[0m \u001b[32m━━━━━━━━━━━━━━━━━━━━\u001b[0m\u001b[37m\u001b[0m \u001b[1m0s\u001b[0m 18ms/step - loss: 59.1723 - mse: 59.1723 - val_loss: 85.0699 - val_mse: 85.0699\n",
      "Epoch 55/100\n",
      "\u001b[1m4/4\u001b[0m \u001b[32m━━━━━━━━━━━━━━━━━━━━\u001b[0m\u001b[37m\u001b[0m \u001b[1m0s\u001b[0m 17ms/step - loss: 55.9109 - mse: 55.9109 - val_loss: 80.7494 - val_mse: 80.7494\n",
      "Epoch 56/100\n",
      "\u001b[1m4/4\u001b[0m \u001b[32m━━━━━━━━━━━━━━━━━━━━\u001b[0m\u001b[37m\u001b[0m \u001b[1m0s\u001b[0m 17ms/step - loss: 52.6882 - mse: 52.6882 - val_loss: 76.5647 - val_mse: 76.5647\n",
      "Epoch 57/100\n",
      "\u001b[1m4/4\u001b[0m \u001b[32m━━━━━━━━━━━━━━━━━━━━\u001b[0m\u001b[37m\u001b[0m \u001b[1m0s\u001b[0m 17ms/step - loss: 49.4862 - mse: 49.4862 - val_loss: 72.5122 - val_mse: 72.5122\n",
      "Epoch 58/100\n",
      "\u001b[1m4/4\u001b[0m \u001b[32m━━━━━━━━━━━━━━━━━━━━\u001b[0m\u001b[37m\u001b[0m \u001b[1m0s\u001b[0m 17ms/step - loss: 46.5407 - mse: 46.5407 - val_loss: 68.5350 - val_mse: 68.5350\n",
      "Epoch 59/100\n",
      "\u001b[1m4/4\u001b[0m \u001b[32m━━━━━━━━━━━━━━━━━━━━\u001b[0m\u001b[37m\u001b[0m \u001b[1m0s\u001b[0m 17ms/step - loss: 43.6179 - mse: 43.6179 - val_loss: 64.7061 - val_mse: 64.7061\n",
      "Epoch 60/100\n",
      "\u001b[1m4/4\u001b[0m \u001b[32m━━━━━━━━━━━━━━━━━━━━\u001b[0m\u001b[37m\u001b[0m \u001b[1m0s\u001b[0m 17ms/step - loss: 40.8113 - mse: 40.8113 - val_loss: 60.9561 - val_mse: 60.9561\n",
      "Epoch 61/100\n",
      "\u001b[1m4/4\u001b[0m \u001b[32m━━━━━━━━━━━━━━━━━━━━\u001b[0m\u001b[37m\u001b[0m \u001b[1m0s\u001b[0m 17ms/step - loss: 38.1383 - mse: 38.1383 - val_loss: 57.3301 - val_mse: 57.3301\n",
      "Epoch 62/100\n",
      "\u001b[1m4/4\u001b[0m \u001b[32m━━━━━━━━━━━━━━━━━━━━\u001b[0m\u001b[37m\u001b[0m \u001b[1m0s\u001b[0m 17ms/step - loss: 35.4546 - mse: 35.4546 - val_loss: 53.9243 - val_mse: 53.9243\n",
      "Epoch 63/100\n",
      "\u001b[1m4/4\u001b[0m \u001b[32m━━━━━━━━━━━━━━━━━━━━\u001b[0m\u001b[37m\u001b[0m \u001b[1m0s\u001b[0m 17ms/step - loss: 33.0060 - mse: 33.0060 - val_loss: 50.6525 - val_mse: 50.6525\n",
      "Epoch 64/100\n",
      "\u001b[1m4/4\u001b[0m \u001b[32m━━━━━━━━━━━━━━━━━━━━\u001b[0m\u001b[37m\u001b[0m \u001b[1m0s\u001b[0m 17ms/step - loss: 30.7159 - mse: 30.7159 - val_loss: 47.4503 - val_mse: 47.4503\n",
      "Epoch 65/100\n",
      "\u001b[1m4/4\u001b[0m \u001b[32m━━━━━━━━━━━━━━━━━━━━\u001b[0m\u001b[37m\u001b[0m \u001b[1m0s\u001b[0m 27ms/step - loss: 28.4806 - mse: 28.4806 - val_loss: 44.4173 - val_mse: 44.4173\n",
      "Epoch 66/100\n",
      "\u001b[1m4/4\u001b[0m \u001b[32m━━━━━━━━━━━━━━━━━━━━\u001b[0m\u001b[37m\u001b[0m \u001b[1m0s\u001b[0m 17ms/step - loss: 26.4256 - mse: 26.4256 - val_loss: 41.5521 - val_mse: 41.5521\n",
      "Epoch 67/100\n",
      "\u001b[1m4/4\u001b[0m \u001b[32m━━━━━━━━━━━━━━━━━━━━\u001b[0m\u001b[37m\u001b[0m \u001b[1m0s\u001b[0m 17ms/step - loss: 24.4074 - mse: 24.4074 - val_loss: 38.8734 - val_mse: 38.8734\n",
      "Epoch 68/100\n",
      "\u001b[1m4/4\u001b[0m \u001b[32m━━━━━━━━━━━━━━━━━━━━\u001b[0m\u001b[37m\u001b[0m \u001b[1m0s\u001b[0m 16ms/step - loss: 22.6086 - mse: 22.6086 - val_loss: 36.3522 - val_mse: 36.3522\n",
      "Epoch 69/100\n",
      "\u001b[1m4/4\u001b[0m \u001b[32m━━━━━━━━━━━━━━━━━━━━\u001b[0m\u001b[37m\u001b[0m \u001b[1m0s\u001b[0m 16ms/step - loss: 20.9442 - mse: 20.9442 - val_loss: 33.9806 - val_mse: 33.9806\n",
      "Epoch 70/100\n",
      "\u001b[1m4/4\u001b[0m \u001b[32m━━━━━━━━━━━━━━━━━━━━\u001b[0m\u001b[37m\u001b[0m \u001b[1m0s\u001b[0m 17ms/step - loss: 19.4240 - mse: 19.4240 - val_loss: 31.7316 - val_mse: 31.7316\n",
      "Epoch 71/100\n",
      "\u001b[1m4/4\u001b[0m \u001b[32m━━━━━━━━━━━━━━━━━━━━\u001b[0m\u001b[37m\u001b[0m \u001b[1m0s\u001b[0m 17ms/step - loss: 17.8785 - mse: 17.8785 - val_loss: 29.6899 - val_mse: 29.6899\n",
      "Epoch 72/100\n",
      "\u001b[1m4/4\u001b[0m \u001b[32m━━━━━━━━━━━━━━━━━━━━\u001b[0m\u001b[37m\u001b[0m \u001b[1m0s\u001b[0m 17ms/step - loss: 16.5772 - mse: 16.5772 - val_loss: 27.7927 - val_mse: 27.7927\n",
      "Epoch 73/100\n",
      "\u001b[1m4/4\u001b[0m \u001b[32m━━━━━━━━━━━━━━━━━━━━\u001b[0m\u001b[37m\u001b[0m \u001b[1m0s\u001b[0m 17ms/step - loss: 15.4026 - mse: 15.4026 - val_loss: 26.0560 - val_mse: 26.0560\n",
      "Epoch 74/100\n",
      "\u001b[1m4/4\u001b[0m \u001b[32m━━━━━━━━━━━━━━━━━━━━\u001b[0m\u001b[37m\u001b[0m \u001b[1m0s\u001b[0m 17ms/step - loss: 14.3362 - mse: 14.3362 - val_loss: 24.4348 - val_mse: 24.4348\n",
      "Epoch 75/100\n",
      "\u001b[1m4/4\u001b[0m \u001b[32m━━━━━━━━━━━━━━━━━━━━\u001b[0m\u001b[37m\u001b[0m \u001b[1m0s\u001b[0m 17ms/step - loss: 13.3046 - mse: 13.3046 - val_loss: 22.9387 - val_mse: 22.9387\n",
      "Epoch 76/100\n",
      "\u001b[1m4/4\u001b[0m \u001b[32m━━━━━━━━━━━━━━━━━━━━\u001b[0m\u001b[37m\u001b[0m \u001b[1m0s\u001b[0m 17ms/step - loss: 12.3978 - mse: 12.3978 - val_loss: 21.5772 - val_mse: 21.5772\n",
      "Epoch 77/100\n",
      "\u001b[1m4/4\u001b[0m \u001b[32m━━━━━━━━━━━━━━━━━━━━\u001b[0m\u001b[37m\u001b[0m \u001b[1m0s\u001b[0m 17ms/step - loss: 11.5829 - mse: 11.5829 - val_loss: 20.3025 - val_mse: 20.3025\n",
      "Epoch 78/100\n",
      "\u001b[1m4/4\u001b[0m \u001b[32m━━━━━━━━━━━━━━━━━━━━\u001b[0m\u001b[37m\u001b[0m \u001b[1m0s\u001b[0m 18ms/step - loss: 10.8478 - mse: 10.8478 - val_loss: 19.1052 - val_mse: 19.1052\n",
      "Epoch 79/100\n",
      "\u001b[1m4/4\u001b[0m \u001b[32m━━━━━━━━━━━━━━━━━━━━\u001b[0m\u001b[37m\u001b[0m \u001b[1m0s\u001b[0m 17ms/step - loss: 10.2311 - mse: 10.2311 - val_loss: 17.9862 - val_mse: 17.9862\n",
      "Epoch 80/100\n",
      "\u001b[1m4/4\u001b[0m \u001b[32m━━━━━━━━━━━━━━━━━━━━\u001b[0m\u001b[37m\u001b[0m \u001b[1m0s\u001b[0m 17ms/step - loss: 9.5916 - mse: 9.5916 - val_loss: 17.0193 - val_mse: 17.0193\n",
      "Epoch 81/100\n",
      "\u001b[1m4/4\u001b[0m \u001b[32m━━━━━━━━━━━━━━━━━━━━\u001b[0m\u001b[37m\u001b[0m \u001b[1m0s\u001b[0m 17ms/step - loss: 9.0512 - mse: 9.0512 - val_loss: 16.1550 - val_mse: 16.1550\n",
      "Epoch 82/100\n",
      "\u001b[1m4/4\u001b[0m \u001b[32m━━━━━━━━━━━━━━━━━━━━\u001b[0m\u001b[37m\u001b[0m \u001b[1m0s\u001b[0m 17ms/step - loss: 8.6200 - mse: 8.6200 - val_loss: 15.3467 - val_mse: 15.3467\n",
      "Epoch 83/100\n",
      "\u001b[1m4/4\u001b[0m \u001b[32m━━━━━━━━━━━━━━━━━━━━\u001b[0m\u001b[37m\u001b[0m \u001b[1m0s\u001b[0m 17ms/step - loss: 8.2318 - mse: 8.2318 - val_loss: 14.5959 - val_mse: 14.5959\n",
      "Epoch 84/100\n",
      "\u001b[1m4/4\u001b[0m \u001b[32m━━━━━━━━━━━━━━━━━━━━\u001b[0m\u001b[37m\u001b[0m \u001b[1m0s\u001b[0m 17ms/step - loss: 7.8480 - mse: 7.8480 - val_loss: 13.9581 - val_mse: 13.9581\n",
      "Epoch 85/100\n",
      "\u001b[1m4/4\u001b[0m \u001b[32m━━━━━━━━━━━━━━━━━━━━\u001b[0m\u001b[37m\u001b[0m \u001b[1m0s\u001b[0m 17ms/step - loss: 7.5420 - mse: 7.5420 - val_loss: 13.3879 - val_mse: 13.3879\n",
      "Epoch 86/100\n",
      "\u001b[1m4/4\u001b[0m \u001b[32m━━━━━━━━━━━━━━━━━━━━\u001b[0m\u001b[37m\u001b[0m \u001b[1m0s\u001b[0m 18ms/step - loss: 7.2824 - mse: 7.2824 - val_loss: 12.8555 - val_mse: 12.8555\n",
      "Epoch 87/100\n",
      "\u001b[1m4/4\u001b[0m \u001b[32m━━━━━━━━━━━━━━━━━━━━\u001b[0m\u001b[37m\u001b[0m \u001b[1m0s\u001b[0m 17ms/step - loss: 7.0630 - mse: 7.0630 - val_loss: 12.3894 - val_mse: 12.3894\n",
      "Epoch 88/100\n",
      "\u001b[1m4/4\u001b[0m \u001b[32m━━━━━━━━━━━━━━━━━━━━\u001b[0m\u001b[37m\u001b[0m \u001b[1m0s\u001b[0m 17ms/step - loss: 6.8467 - mse: 6.8467 - val_loss: 11.9948 - val_mse: 11.9948\n",
      "Epoch 89/100\n",
      "\u001b[1m4/4\u001b[0m \u001b[32m━━━━━━━━━━━━━━━━━━━━\u001b[0m\u001b[37m\u001b[0m \u001b[1m0s\u001b[0m 17ms/step - loss: 6.6708 - mse: 6.6708 - val_loss: 11.6355 - val_mse: 11.6355\n",
      "Epoch 90/100\n",
      "\u001b[1m4/4\u001b[0m \u001b[32m━━━━━━━━━━━━━━━━━━━━\u001b[0m\u001b[37m\u001b[0m \u001b[1m0s\u001b[0m 17ms/step - loss: 6.5324 - mse: 6.5324 - val_loss: 11.2760 - val_mse: 11.2760\n",
      "Epoch 91/100\n",
      "\u001b[1m4/4\u001b[0m \u001b[32m━━━━━━━━━━━━━━━━━━━━\u001b[0m\u001b[37m\u001b[0m \u001b[1m0s\u001b[0m 17ms/step - loss: 6.3922 - mse: 6.3922 - val_loss: 10.9666 - val_mse: 10.9666\n",
      "Epoch 92/100\n",
      "\u001b[1m4/4\u001b[0m \u001b[32m━━━━━━━━━━━━━━━━━━━━\u001b[0m\u001b[37m\u001b[0m \u001b[1m0s\u001b[0m 17ms/step - loss: 6.2882 - mse: 6.2882 - val_loss: 10.6613 - val_mse: 10.6613\n",
      "Epoch 93/100\n",
      "\u001b[1m4/4\u001b[0m \u001b[32m━━━━━━━━━━━━━━━━━━━━\u001b[0m\u001b[37m\u001b[0m \u001b[1m0s\u001b[0m 17ms/step - loss: 6.1705 - mse: 6.1705 - val_loss: 10.4128 - val_mse: 10.4128\n",
      "Epoch 94/100\n",
      "\u001b[1m4/4\u001b[0m \u001b[32m━━━━━━━━━━━━━━━━━━━━\u001b[0m\u001b[37m\u001b[0m \u001b[1m0s\u001b[0m 18ms/step - loss: 6.0787 - mse: 6.0787 - val_loss: 10.2008 - val_mse: 10.2008\n",
      "Epoch 95/100\n",
      "\u001b[1m4/4\u001b[0m \u001b[32m━━━━━━━━━━━━━━━━━━━━\u001b[0m\u001b[37m\u001b[0m \u001b[1m0s\u001b[0m 17ms/step - loss: 6.0014 - mse: 6.0014 - val_loss: 9.9967 - val_mse: 9.9967\n",
      "Epoch 96/100\n",
      "\u001b[1m4/4\u001b[0m \u001b[32m━━━━━━━━━━━━━━━━━━━━\u001b[0m\u001b[37m\u001b[0m \u001b[1m0s\u001b[0m 17ms/step - loss: 5.9395 - mse: 5.9395 - val_loss: 9.7926 - val_mse: 9.7926\n",
      "Epoch 97/100\n",
      "\u001b[1m4/4\u001b[0m \u001b[32m━━━━━━━━━━━━━━━━━━━━\u001b[0m\u001b[37m\u001b[0m \u001b[1m0s\u001b[0m 17ms/step - loss: 5.8705 - mse: 5.8705 - val_loss: 9.6037 - val_mse: 9.6037\n",
      "Epoch 98/100\n",
      "\u001b[1m4/4\u001b[0m \u001b[32m━━━━━━━━━━━━━━━━━━━━\u001b[0m\u001b[37m\u001b[0m \u001b[1m0s\u001b[0m 17ms/step - loss: 5.8110 - mse: 5.8110 - val_loss: 9.4312 - val_mse: 9.4312\n",
      "Epoch 99/100\n",
      "\u001b[1m4/4\u001b[0m \u001b[32m━━━━━━━━━━━━━━━━━━━━\u001b[0m\u001b[37m\u001b[0m \u001b[1m0s\u001b[0m 17ms/step - loss: 5.7561 - mse: 5.7561 - val_loss: 9.2873 - val_mse: 9.2873\n",
      "Epoch 100/100\n",
      "\u001b[1m4/4\u001b[0m \u001b[32m━━━━━━━━━━━━━━━━━━━━\u001b[0m\u001b[37m\u001b[0m \u001b[1m0s\u001b[0m 17ms/step - loss: 5.7083 - mse: 5.7083 - val_loss: 9.1763 - val_mse: 9.1763\n"
     ]
    }
   ],
   "source": [
    "data = pd.read_csv('https://raw.githubusercontent.com/pykwon/python/refs/heads/master/testdata_utf8/Advertising.csv')\n",
    "# print(data.head(2))\n",
    "\n",
    "del data['no']\n",
    "# print(data.head(2))\n",
    "\n",
    "fdata = data[['tv', 'radio','newspaper']]\n",
    "ldata = data[['sales']]\n",
    "# print(fdata[:2], ldata[:2])\n",
    "\n",
    "# 정규화\n",
    "# scaler = MinMaxScaler(feature_range=(0,1))\n",
    "# fedata = scaler.fit_transform(fdata)\n",
    "# print(fedata[:2])\n",
    "\n",
    "fedata = minmax_scale(fdata, axis=0, copy=True) # 원본 보존\n",
    "print(fedata[:3])\n",
    "\n",
    "# train/test\n",
    "x_train, x_test, y_train, y_test = train_test_split(fedata, ldata, test_size=0.3, random_state=123)\n",
    "\n",
    "# model\n",
    "model = Sequential()\n",
    "model.add(Input(shape=(3,)))\n",
    "model.add(Dense(16, activation='relu'))\n",
    "model.add(Dense(8, activation='relu'))\n",
    "model.add(Dense(1, activation='linear'))\n",
    "\n",
    "# compile\n",
    "model.compile(optimizer='adam', loss='mse', metrics=['mse'])\n",
    "print(model.summary())\n",
    "\n",
    "# tf.keras.utils.plot_model(model, 'tf13.png')\n",
    "\n",
    "history = model.fit(x_train, y_train, epochs=100, batch_size=32, verbose=1, validation_split=0.2)\n",
    "# validation_data = (x_vali, y_vali)"
   ]
  },
  {
   "cell_type": "code",
   "execution_count": null,
   "id": "207db807",
   "metadata": {},
   "outputs": [
    {
     "name": "stdout",
     "output_type": "stream",
     "text": [
      "loss : [5.382490158081055, 5.382490158081055]\n",
      "loss : [209.80960083007812, 207.6062469482422, 205.57052612304688, 203.417236328125, 201.3391876220703, 199.3036346435547, 197.314697265625, 195.3853302001953, 193.54795837402344, 191.75732421875, 189.84152221679688, 188.0709686279297, 186.16720581054688, 184.24143981933594, 182.23622131347656, 180.19554138183594, 178.15101623535156, 176.06410217285156, 173.9044189453125, 171.65115356445312, 169.40245056152344, 166.974609375, 164.561767578125, 161.9935760498047, 159.4065399169922, 156.72715759277344, 153.89718627929688, 151.03762817382812, 148.0338897705078, 145.07797241210938, 141.8622283935547, 138.6735382080078, 135.310791015625, 132.01791381835938, 128.49888610839844, 125.09088134765625, 121.47978973388672, 117.947265625, 114.28531646728516, 110.70512390136719, 106.95597076416016, 103.16450500488281, 99.43772888183594, 95.61743927001953, 91.84979248046875, 88.21312713623047, 84.33451080322266, 80.60778045654297, 76.92302703857422, 73.25740814208984, 69.57818603515625, 66.13143157958984, 62.5661735534668, 59.17233657836914, 55.91093063354492, 52.68817901611328, 49.486236572265625, 46.540679931640625, 43.617923736572266, 40.81134033203125, 38.138275146484375, 35.45464324951172, 33.00601577758789, 30.7159366607666, 28.480607986450195, 26.425642013549805, 24.407400131225586, 22.608610153198242, 20.944244384765625, 19.423980712890625, 17.878461837768555, 16.57722282409668, 15.402571678161621, 14.3362398147583, 13.304574012756348, 12.397786140441895, 11.582860946655273, 10.847780227661133, 10.231133460998535, 9.591551780700684, 9.05121898651123, 8.6199951171875, 8.231813430786133, 7.848030090332031, 7.542027950286865, 7.282350063323975, 7.0630083084106445, 6.846714019775391, 6.6707963943481445, 6.532379627227783, 6.3921661376953125, 6.2882256507873535, 6.170491695404053, 6.0787177085876465, 6.001424312591553, 5.939490795135498, 5.870528221130371, 5.811017036437988, 5.756131172180176, 5.70830774307251]\n",
      "mse : [209.80960083007812, 207.6062469482422, 205.57052612304688, 203.417236328125, 201.3391876220703, 199.3036346435547, 197.314697265625, 195.3853302001953, 193.54795837402344, 191.75732421875, 189.84152221679688, 188.0709686279297, 186.16720581054688, 184.24143981933594, 182.23622131347656, 180.19554138183594, 178.15101623535156, 176.06410217285156, 173.9044189453125, 171.65115356445312, 169.40245056152344, 166.974609375, 164.561767578125, 161.9935760498047, 159.4065399169922, 156.72715759277344, 153.89718627929688, 151.03762817382812, 148.0338897705078, 145.07797241210938, 141.8622283935547, 138.6735382080078, 135.310791015625, 132.01791381835938, 128.49888610839844, 125.09088134765625, 121.47978973388672, 117.947265625, 114.28531646728516, 110.70512390136719, 106.95597076416016, 103.16450500488281, 99.43772888183594, 95.61743927001953, 91.84979248046875, 88.21312713623047, 84.33451080322266, 80.60778045654297, 76.92302703857422, 73.25740814208984, 69.57818603515625, 66.13143157958984, 62.5661735534668, 59.17233657836914, 55.91093063354492, 52.68817901611328, 49.486236572265625, 46.540679931640625, 43.617923736572266, 40.81134033203125, 38.138275146484375, 35.45464324951172, 33.00601577758789, 30.7159366607666, 28.480607986450195, 26.425642013549805, 24.407400131225586, 22.608610153198242, 20.944244384765625, 19.423980712890625, 17.878461837768555, 16.57722282409668, 15.402571678161621, 14.3362398147583, 13.304574012756348, 12.397786140441895, 11.582860946655273, 10.847780227661133, 10.231133460998535, 9.591551780700684, 9.05121898651123, 8.6199951171875, 8.231813430786133, 7.848030090332031, 7.542027950286865, 7.282350063323975, 7.0630083084106445, 6.846714019775391, 6.6707963943481445, 6.532379627227783, 6.3921661376953125, 6.2882256507873535, 6.170491695404053, 6.0787177085876465, 6.001424312591553, 5.939490795135498, 5.870528221130371, 5.811017036437988, 5.756131172180176, 5.70830774307251]\n",
      "val_loss : [276.7978210449219, 274.1387634277344, 271.5008850097656, 268.9041748046875, 266.3553161621094, 263.9004211425781, 261.519287109375, 259.1976013183594, 256.9057312011719, 254.6276092529297, 252.34815979003906, 249.97946166992188, 247.56314086914062, 245.1080780029297, 242.6058349609375, 240.0682830810547, 237.4819793701172, 234.8037109375, 232.04383850097656, 229.1962432861328, 226.23538208007812, 223.20835876464844, 220.08499145507812, 216.86622619628906, 213.5242919921875, 210.09371948242188, 206.57437133789062, 202.90403747558594, 199.1085205078125, 195.1634063720703, 191.14230346679688, 186.9876251220703, 182.77333068847656, 178.46749877929688, 174.1304931640625, 169.67752075195312, 165.17654418945312, 160.58297729492188, 155.9219512939453, 151.1769256591797, 146.42724609375, 141.65249633789062, 136.83836364746094, 132.05062866210938, 127.22761535644531, 122.33019256591797, 117.53894805908203, 112.74308013916016, 107.96955108642578, 103.23426818847656, 98.6004638671875, 93.96824645996094, 89.47666931152344, 85.06993103027344, 80.74937438964844, 76.564697265625, 72.51215362548828, 68.53504943847656, 64.70610046386719, 60.95606231689453, 57.33008575439453, 53.92433547973633, 50.6524658203125, 47.45029830932617, 44.41730499267578, 41.55214309692383, 38.87335968017578, 36.3521842956543, 33.980628967285156, 31.731578826904297, 29.68990135192871, 27.792673110961914, 26.05604362487793, 24.43475341796875, 22.938655853271484, 21.57723617553711, 20.302547454833984, 19.105241775512695, 17.9862060546875, 17.019285202026367, 16.15501594543457, 15.346714973449707, 14.59593677520752, 13.958077430725098, 13.387932777404785, 12.855454444885254, 12.38944149017334, 11.994827270507812, 11.635498046875, 11.275982856750488, 10.966597557067871, 10.661306381225586, 10.412809371948242, 10.200803756713867, 9.996734619140625, 9.79255485534668, 9.603719711303711, 9.431204795837402, 9.287335395812988, 9.176324844360352]\n",
      "val_mse : [276.7978210449219, 274.1387634277344, 271.5008850097656, 268.9041748046875, 266.3553161621094, 263.9004211425781, 261.519287109375, 259.1976013183594, 256.9057312011719, 254.6276092529297, 252.34815979003906, 249.97946166992188, 247.56314086914062, 245.1080780029297, 242.6058349609375, 240.0682830810547, 237.4819793701172, 234.8037109375, 232.04383850097656, 229.1962432861328, 226.23538208007812, 223.20835876464844, 220.08499145507812, 216.86622619628906, 213.5242919921875, 210.09371948242188, 206.57437133789062, 202.90403747558594, 199.1085205078125, 195.1634063720703, 191.14230346679688, 186.9876251220703, 182.77333068847656, 178.46749877929688, 174.1304931640625, 169.67752075195312, 165.17654418945312, 160.58297729492188, 155.9219512939453, 151.1769256591797, 146.42724609375, 141.65249633789062, 136.83836364746094, 132.05062866210938, 127.22761535644531, 122.33019256591797, 117.53894805908203, 112.74308013916016, 107.96955108642578, 103.23426818847656, 98.6004638671875, 93.96824645996094, 89.47666931152344, 85.06993103027344, 80.74937438964844, 76.564697265625, 72.51215362548828, 68.53504943847656, 64.70610046386719, 60.95606231689453, 57.33008575439453, 53.92433547973633, 50.6524658203125, 47.45029830932617, 44.41730499267578, 41.55214309692383, 38.87335968017578, 36.3521842956543, 33.980628967285156, 31.731578826904297, 29.68990135192871, 27.792673110961914, 26.05604362487793, 24.43475341796875, 22.938655853271484, 21.57723617553711, 20.302547454833984, 19.105241775512695, 17.9862060546875, 17.019285202026367, 16.15501594543457, 15.346714973449707, 14.59593677520752, 13.958077430725098, 13.387932777404785, 12.855454444885254, 12.38944149017334, 11.994827270507812, 11.635498046875, 11.275982856750488, 10.966597557067871, 10.661306381225586, 10.412809371948242, 10.200803756713867, 9.996734619140625, 9.79255485534668, 9.603719711303711, 9.431204795837402, 9.287335395812988, 9.176324844360352]\n"
     ]
    },
    {
     "data": {
      "image/png": "[encoded data removed]",
      "text/plain": [
       "<Figure size 640x480 with 1 Axes>"
      ]
     },
     "metadata": {},
     "output_type": "display_data"
    },
    {
     "name": "stdout",
     "output_type": "stream",
     "text": [
      "\u001b[1m2/2\u001b[0m \u001b[32m━━━━━━━━━━━━━━━━━━━━\u001b[0m\u001b[37m\u001b[0m \u001b[1m0s\u001b[0m 30ms/step\n",
      "0.7959227561950684\n"
     ]
    }
   ],
   "source": [
    "# 모델 평가 점수\n",
    "loss = model.evaluate(x_test, y_test, verbose=0)\n",
    "print('loss :', loss)\n",
    "\n",
    "# history 값 확인\n",
    "# print('history :', history.history)\n",
    "print('loss :', history.history['loss'])\n",
    "print('mse :', history.history['mse'])\n",
    "print('val_loss :', history.history['val_loss'])\n",
    "print('val_mse :', history.history['val_mse'])\n",
    "\n",
    "# loss 시각화\n",
    "plt.plot(history.history['loss'], 'b-', label='loss')\n",
    "plt.plot(history.history['val_loss'], 'r--', label='val_loss')\n",
    "plt.legend()\n",
    "plt.show()\n",
    "# 둘 값의 차이가 크면 안된다.\n",
    "\n",
    "# r2_score\n",
    "print(r2_score(y_test, model.predict(x_test)))\n",
    "\n"
   ]
  }
 ],
 "metadata": {
  "kernelspec": {
   "display_name": "tf-mac-metal",
   "language": "python",
   "name": "python3"
  },
  "language_info": {
   "codemirror_mode": {
    "name": "ipython",
    "version": 3
   },
   "file_extension": ".py",
   "mimetype": "text/x-python",
   "name": "python",
   "nbconvert_exporter": "python",
   "pygments_lexer": "ipython3",
   "version": "3.11.13"
  }
 },
 "nbformat": 4,
 "nbformat_minor": 5
}
