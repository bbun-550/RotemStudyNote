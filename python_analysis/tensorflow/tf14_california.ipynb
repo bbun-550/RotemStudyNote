{
 "cells": [
  {
   "cell_type": "code",
   "execution_count": 7,
   "id": "2228a472",
   "metadata": {},
   "outputs": [
    {
     "name": "stdout",
     "output_type": "stream",
     "text": [
      "dict_keys(['data', 'target', 'frame', 'target_names', 'feature_names', 'DESCR'])\n",
      "[[ 8.32520000e+00  4.10000000e+01  6.98412698e+00  1.02380952e+00\n",
      "   3.22000000e+02  2.55555556e+00  3.78800000e+01 -1.22230000e+02]\n",
      " [ 8.30140000e+00  2.10000000e+01  6.23813708e+00  9.71880492e-01\n",
      "   2.40100000e+03  2.10984183e+00  3.78600000e+01 -1.22220000e+02]\n",
      " [ 7.25740000e+00  5.20000000e+01  8.28813559e+00  1.07344633e+00\n",
      "   4.96000000e+02  2.80225989e+00  3.78500000e+01 -1.22240000e+02]] <class 'numpy.ndarray'>\n",
      "[4.526 3.585 3.521] <class 'numpy.ndarray'>\n",
      "['MedInc', 'HouseAge', 'AveRooms', 'AveBedrms', 'Population', 'AveOccup', 'Latitude', 'Longitude']\n",
      "['MedHouseVal']\n",
      "(20640, 8)\n"
     ]
    }
   ],
   "source": [
    "# 캘리포니아 주택 가격 데이터로 함수형 유연한 모델 생성\n",
    "from sklearn.datasets import fetch_california_housing\n",
    "from sklearn.model_selection import train_test_split\n",
    "from sklearn.preprocessing import StandardScaler\n",
    "from keras.models import Sequential, Model\n",
    "from keras.layers import Dense, Input, Concatenate\n",
    "import matplotlib.pyplot as plt\n",
    "\n",
    "housing = fetch_california_housing()\n",
    "print(housing.keys())\n",
    "print(housing.data[:3], type(housing.data)) # numpy.ndarray\n",
    "print(housing.target[:3], type(housing.target)) # numpy.ndarray\n",
    "print(housing.feature_names)\n",
    "print(housing.target_names)\n",
    "print(housing.data.shape) # (20640, 8)"
   ]
  },
  {
   "cell_type": "code",
   "execution_count": null,
   "id": "0cd1987b",
   "metadata": {},
   "outputs": [
    {
     "name": "stdout",
     "output_type": "stream",
     "text": [
      "(16512, 8) (4128, 8) (16512,) (4128,)\n"
     ]
    }
   ],
   "source": [
    "x_train, x_test, y_train, y_test = train_test_split(housing.data, housing.target, test_size=0.2, random_state=12)\n",
    "print(x_train.shape, x_test.shape, y_train.shape, y_test.shape) # x_train, x_test, y_train, y_test = train_test_split(housing.data, housing.target, test_size=0.2, random_state=12)\n"
   ]
  }
 ],
 "metadata": {
  "kernelspec": {
   "display_name": "tf-mac-metal",
   "language": "python",
   "name": "python3"
  },
  "language_info": {
   "codemirror_mode": {
    "name": "ipython",
    "version": 3
   },
   "file_extension": ".py",
   "mimetype": "text/x-python",
   "name": "python",
   "nbconvert_exporter": "python",
   "pygments_lexer": "ipython3",
   "version": "3.11.13"
  }
 },
 "nbformat": 4,
 "nbformat_minor": 5
}
