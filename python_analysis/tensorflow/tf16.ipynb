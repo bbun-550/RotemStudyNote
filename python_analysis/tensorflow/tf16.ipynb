{
 "cells": [
  {
   "cell_type": "code",
   "execution_count": 10,
   "id": "af0c5c2c",
   "metadata": {},
   "outputs": [],
   "source": [
    "import pandas as pd\n",
    "from sklearn.preprocessing import OneHotEncoder\n",
    "from sklearn.compose import make_column_transformer\n",
    "import numpy as np\n",
    "import tensorflow as tf\n"
   ]
  },
  {
   "cell_type": "code",
   "execution_count": 14,
   "id": "ace74558",
   "metadata": {},
   "outputs": [
    {
     "name": "stdout",
     "output_type": "stream",
     "text": [
      "     가격    년식   종류    연비   마력    토크   연료  하이브리드   배기량    중량 변속기\n",
      "0  1885  2015  준중형  11.8  172  21.0  가솔린      0  1999  1300  자동\n",
      "1  2190  2015  준중형  12.3  204  27.0  가솔린      0  1591  1300  자동\n",
      "2  1135  2015   소형  15.0  100  13.6  가솔린      0  1368  1035  수동\n",
      "     가격    년식  종류    연비   마력    토크   연료  하이브리드   배기량    중량 변속기\n",
      "0  1915  2015  대형   6.8  159  23.0  LPG      0  2359  1935  수동\n",
      "1  1164  2012  소형  13.3  108  13.9  가솔린      0  1396  1035  자동\n",
      "2  2817  2015  중형  14.4  184  41.0   디젤      0  1995  1792  자동\n",
      "     년식   종류    연비   마력    토크   연료  하이브리드   배기량    중량 변속기\n",
      "0  2015  준중형  11.8  172  21.0  가솔린      0  1999  1300  자동\n",
      "1  2015  준중형  12.3  204  27.0  가솔린      0  1591  1300  자동\n",
      "Index(['년식', '종류', '연비', '마력', '토크', '연료', '하이브리드', '배기량', '중량', '변속기'], dtype='object')\n",
      "(71, 10)\n",
      "{'대형', '중형', '준중형', '소형'}\n",
      "{'LPG', '디젤', '가솔린'}\n",
      "{'수동', '자동'}\n",
      "[[0.000e+00 0.000e+00 1.000e+00 0.000e+00 0.000e+00 1.000e+00 0.000e+00\n",
      "  0.000e+00 1.000e+00 2.015e+03 1.180e+01 1.720e+02 2.100e+01 0.000e+00\n",
      "  1.999e+03 1.300e+03]\n",
      " [0.000e+00 0.000e+00 1.000e+00 0.000e+00 0.000e+00 1.000e+00 0.000e+00\n",
      "  0.000e+00 1.000e+00 2.015e+03 1.230e+01 2.040e+02 2.700e+01 0.000e+00\n",
      "  1.591e+03 1.300e+03]] (71, 16)\n",
      "(71, 1)\n"
     ]
    }
   ],
   "source": [
    "train_df = pd.read_excel('https://github.com/pykwon/python/blob/master/testdata_utf8/hd_carprice.xlsx?raw=True', sheet_name='train')\n",
    "test_df = pd.read_excel('https://github.com/pykwon/python/blob/master/testdata_utf8/hd_carprice.xlsx?raw=True', sheet_name='test')\n",
    "print(train_df.head(3))\n",
    "print(test_df.head(3))\n",
    "\n",
    "x_train = train_df.drop(['가격'], axis=1) # feature\n",
    "x_test = test_df.drop(['가격'], axis=1)\n",
    "\n",
    "y_train = train_df[['가격']] # label\n",
    "y_test= test_df[['가격']]\n",
    "\n",
    "print(x_train.head(2))\n",
    "print(x_train.columns)\n",
    "print(x_train.shape)\n",
    "\n",
    "print(set(x_train.종류)) # {'대형', '중형', '준중형', '소형'}\n",
    "print(set(x_train.연료)) # {'LPG', '디젤', '가솔린'}\n",
    "print(set(x_train.변속기)) # {'수동', '자동'}\n",
    "\n",
    "# 종류, 연료, 변속기 열에 대해서는 labelEncoder(), OneHotEncoder()를 등을 적용\n",
    "transformer = make_column_transformer((OneHotEncoder(), ['종류','연료','변속기']),\n",
    "                                      remainder='passthrough')\n",
    "# remainder='passthrough' : default는 drop. 열이 transformer에 전달\n",
    "transformer.fit(x_train)\n",
    "x_train = transformer.transform(x_train) # 3개의 칼럼을 포함해 모든 칼럼이 표준화됨\n",
    "x_test = transformer.transform(x_test)\n",
    "print(x_train[:2], x_train.shape) # (71, 16)\n",
    "print(y_train.shape) # (71, 1)"
   ]
  },
  {
   "cell_type": "code",
   "execution_count": null,
   "id": "5954156f",
   "metadata": {},
   "outputs": [],
   "source": [
    "# Function API\n"
   ]
  }
 ],
 "metadata": {
  "kernelspec": {
   "display_name": "tf-mac-metal",
   "language": "python",
   "name": "python3"
  },
  "language_info": {
   "codemirror_mode": {
    "name": "ipython",
    "version": 3
   },
   "file_extension": ".py",
   "mimetype": "text/x-python",
   "name": "python",
   "nbconvert_exporter": "python",
   "pygments_lexer": "ipython3",
   "version": "3.11.13"
  }
 },
 "nbformat": 4,
 "nbformat_minor": 5
}
