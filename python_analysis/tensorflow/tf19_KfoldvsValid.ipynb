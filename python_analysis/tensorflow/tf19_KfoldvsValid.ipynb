{
 "cells": [
  {
   "cell_type": "code",
   "execution_count": null,
   "id": "aed81f43",
   "metadata": {},
   "outputs": [],
   "source": [
    "# Validation split 방식과 KFold 방식에 차이\n",
    "import numpy as np\n",
    "\n",
    "from keras.models import Sequential\n",
    "from keras.layers import Dense, Input\n",
    "from sklearn.model_selection import KFold\n",
    "from sklearn.metrics import accuracy_score"
   ]
  },
  {
   "cell_type": "code",
   "execution_count": 9,
   "id": "3e9d4faa",
   "metadata": {},
   "outputs": [],
   "source": [
    "data = np.loadtxt('https://raw.githubusercontent.com/pykwon/python/refs/heads/master/testdata_utf8/prima-indians-diabetes.csv', \n",
    "                  delimiter=',', dtype=np.float32)\n",
    "\n",
    "x = data[:, :-1]\n",
    "y = data[:, -1]\n",
    "# print(x[:3])\n",
    "# print(y[:3])\n",
    "\n",
    "def build_model():\n",
    "    model = Sequential([\n",
    "        Input(shape=(8,)),\n",
    "        Dense(64, activation='relu'),\n",
    "        Dense(32, activation='relu'),\n",
    "        Dense(1, activation='sigmoid'),\n",
    "    ])\n",
    "    model.compile(optimizer='adam', loss='binary_crossentropy', metrics=['acc'])\n",
    "    return model"
   ]
  },
  {
   "cell_type": "code",
   "execution_count": 10,
   "id": "1db2490b",
   "metadata": {},
   "outputs": [
    {
     "name": "stderr",
     "output_type": "stream",
     "text": [
      "2025-09-15 16:24:16.519111: I tensorflow/core/grappler/optimizers/custom_graph_optimizer_registry.cc:117] Plugin optimizer for device_type GPU is enabled.\n"
     ]
    }
   ],
   "source": [
    "# Validation split\n",
    "model_val = build_model()\n",
    "history_val = model_val.fit(x,y, epochs=100, batch_size=8, validation_split=0.2, verbose=0)\n",
    "val_acc = history_val.history['val_acc'][-1]"
   ]
  },
  {
   "cell_type": "code",
   "execution_count": 11,
   "id": "371a626e",
   "metadata": {},
   "outputs": [
    {
     "name": "stdout",
     "output_type": "stream",
     "text": [
      "\u001b[1m5/5\u001b[0m \u001b[32m━━━━━━━━━━━━━━━━━━━━\u001b[0m\u001b[37m\u001b[0m \u001b[1m0s\u001b[0m 12ms/step\n",
      "\u001b[1m5/5\u001b[0m \u001b[32m━━━━━━━━━━━━━━━━━━━━\u001b[0m\u001b[37m\u001b[0m \u001b[1m0s\u001b[0m 10ms/step\n",
      "WARNING:tensorflow:5 out of the last 11 calls to <function TensorFlowTrainer.make_predict_function.<locals>.one_step_on_data_distributed at 0x3472a2e80> triggered tf.function retracing. Tracing is expensive and the excessive number of tracings could be due to (1) creating @tf.function repeatedly in a loop, (2) passing tensors with different shapes, (3) passing Python objects instead of tensors. For (1), please define your @tf.function outside of the loop. For (2), @tf.function has reduce_retracing=True option that can avoid unnecessary retracing. For (3), please refer to https://www.tensorflow.org/guide/function#controlling_retracing and https://www.tensorflow.org/api_docs/python/tf/function for  more details.\n",
      "\u001b[1m1/5\u001b[0m \u001b[32m━━━━\u001b[0m\u001b[37m━━━━━━━━━━━━━━━━\u001b[0m \u001b[1m0s\u001b[0m 36ms/stepWARNING:tensorflow:5 out of the last 11 calls to <function TensorFlowTrainer.make_predict_function.<locals>.one_step_on_data_distributed at 0x3472a2e80> triggered tf.function retracing. Tracing is expensive and the excessive number of tracings could be due to (1) creating @tf.function repeatedly in a loop, (2) passing tensors with different shapes, (3) passing Python objects instead of tensors. For (1), please define your @tf.function outside of the loop. For (2), @tf.function has reduce_retracing=True option that can avoid unnecessary retracing. For (3), please refer to https://www.tensorflow.org/guide/function#controlling_retracing and https://www.tensorflow.org/api_docs/python/tf/function for  more details.\n",
      "\u001b[1m5/5\u001b[0m \u001b[32m━━━━━━━━━━━━━━━━━━━━\u001b[0m\u001b[37m\u001b[0m \u001b[1m0s\u001b[0m 13ms/step\n",
      "\u001b[1m5/5\u001b[0m \u001b[32m━━━━━━━━━━━━━━━━━━━━\u001b[0m\u001b[37m\u001b[0m \u001b[1m0s\u001b[0m 12ms/step\n",
      "\u001b[1m5/5\u001b[0m \u001b[32m━━━━━━━━━━━━━━━━━━━━\u001b[0m\u001b[37m\u001b[0m \u001b[1m0s\u001b[0m 10ms/step\n"
     ]
    }
   ],
   "source": [
    "# KFold 방식 사용\n",
    "kf = KFold(n_splits=5, shuffle=True, random_state=42)\n",
    "kfold_accs = []\n",
    "\n",
    "for train_idx, val_idx in kf.split(x):\n",
    "    x_train, x_val = x[train_idx], x[val_idx]\n",
    "    y_train, y_val = y[train_idx], y[val_idx]\n",
    "    \n",
    "    model_kf = build_model()\n",
    "    model_kf.fit(x_train, y_train, epochs=100, batch_size=32, verbose=0)\n",
    "    \n",
    "    y_pred = model_kf.predict(x_val)\n",
    "    y_pred_label = (y_pred >= 0.5).astype(int)\n",
    "    acc = accuracy_score(y_val, y_pred_label)\n",
    "    kfold_accs.append(acc)"
   ]
  },
  {
   "cell_type": "code",
   "execution_count": 12,
   "id": "38c78ba4",
   "metadata": {},
   "outputs": [
    {
     "name": "stdout",
     "output_type": "stream",
     "text": [
      "[validation_split] 마지막 검증 정확도 : 0.7078\n",
      "[KFold] 각 fold의 정확도 : [0.6948 0.526  0.6364 0.6732 0.7124]\n",
      "[KFold] 평균 정확도 : 0.6486\n"
     ]
    }
   ],
   "source": [
    "# 비교 출력\n",
    "print(f'[validation_split] 마지막 검증 정확도 : {val_acc:.4f}')\n",
    "print(f'[KFold] 각 fold의 정확도 : {np.round(kfold_accs, 4)}')\n",
    "print(f'[KFold] 평균 정확도 : {np.mean(kfold_accs):.4f}')"
   ]
  }
 ],
 "metadata": {
  "kernelspec": {
   "display_name": "tf-mac-metal",
   "language": "python",
   "name": "python3"
  },
  "language_info": {
   "codemirror_mode": {
    "name": "ipython",
    "version": 3
   },
   "file_extension": ".py",
   "mimetype": "text/x-python",
   "name": "python",
   "nbconvert_exporter": "python",
   "pygments_lexer": "ipython3",
   "version": "3.11.13"
  }
 },
 "nbformat": 4,
 "nbformat_minor": 5
}
