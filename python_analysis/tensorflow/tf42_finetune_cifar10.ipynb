{
 "cells": [
  {
   "cell_type": "code",
   "execution_count": 2,
   "id": "98f8a062",
   "metadata": {},
   "outputs": [],
   "source": [
    "# BackBone 모델 : MobileNetV2 활용\n",
    "# 희귀한 소량의 이미지 데이터를 CIFAR-10 데이터로 가정\n",
    "# 실습 1 : MobileNetV2 모델 그대로 학습시켜 내 이미지 데이터 모델을 잘 분류하는 모델 생성\n",
    "import tensorflow as tf\n",
    "from tensorflow import keras\n",
    "from tensorflow.keras import layers"
   ]
  },
  {
   "cell_type": "code",
   "execution_count": 3,
   "id": "6ffb811f",
   "metadata": {},
   "outputs": [
    {
     "name": "stdout",
     "output_type": "stream",
     "text": [
      "(50000, 32, 32, 3)\n"
     ]
    }
   ],
   "source": [
    "# 데이터 불러오기\n",
    "(x_train, y_train), (x_test, y_test) = keras.datasets.cifar10.load_data()\n",
    "print(x_train.shape)\n",
    "num_classes = 10"
   ]
  },
  {
   "cell_type": "code",
   "execution_count": null,
   "id": "2fee1e9d",
   "metadata": {},
   "outputs": [
    {
     "name": "stdout",
     "output_type": "stream",
     "text": [
      "train data : (50000, 32, 32, 3) (50000, 10)\n",
      "test data : (10000, 32, 32, 3) (10000, 10)\n"
     ]
    }
   ],
   "source": [
    "# 데이터 스케일링\n",
    "x_train = x_train.astype('float32') / 255.0\n",
    "x_test = x_test.astype('float32') / 255.0\n",
    "\n",
    "y_train = keras.utils.to_categorical(y_train, num_classes)\n",
    "y_test = keras.utils.to_categorical(y_test, num_classes)\n",
    "\n",
    "print('train data :', x_train.shape, y_train.shape)\n",
    "print('test data :', x_test.shape, y_test.shape)"
   ]
  },
  {
   "cell_type": "code",
   "execution_count": null,
   "id": "d077a83d",
   "metadata": {},
   "outputs": [
    {
     "name": "stdout",
     "output_type": "stream",
     "text": [
      "Epoch 1/2\n"
     ]
    },
    {
     "name": "stderr",
     "output_type": "stream",
     "text": [
      "2025-09-24 11:06:42.301472: I tensorflow/core/grappler/optimizers/custom_graph_optimizer_registry.cc:117] Plugin optimizer for device_type GPU is enabled.\n"
     ]
    },
    {
     "name": "stdout",
     "output_type": "stream",
     "text": [
      "\u001b[1m704/704\u001b[0m \u001b[32m━━━━━━━━━━━━━━━━━━━━\u001b[0m\u001b[37m\u001b[0m \u001b[1m697s\u001b[0m 952ms/step - accuracy: 0.2542 - loss: 2.0356 - val_accuracy: 0.1038 - val_loss: 2.3176\n",
      "Epoch 2/2\n",
      "\u001b[1m704/704\u001b[0m \u001b[32m━━━━━━━━━━━━━━━━━━━━\u001b[0m\u001b[37m\u001b[0m \u001b[1m661s\u001b[0m 939ms/step - accuracy: 0.3543 - loss: 1.7563 - val_accuracy: 0.0958 - val_loss: 2.3835\n",
      "test 평가 결과 : [2.3777265548706055, 0.10000000149011612]\n"
     ]
    }
   ],
   "source": [
    "# MobileNetV2 모델 호출\n",
    "mobilenet_model = keras.applications.MobileNetV2(\n",
    "    # MobileNetV2 입력 최소 크기는 32, 권장 크기는 96, 128, 160, 192, 224(default)\n",
    "    input_shape=(32,32,3),\n",
    "    include_top=True,    # 분류기 전체 다 쓰겠다.\n",
    "    weights=None,    # (랜덤 초기화)None, imagenet(MobileNet이 학습 것을 참조)\n",
    "    classes=num_classes    # 내 이미지 데이터 클래스를 적용 (10개)\n",
    ")\n",
    "\n",
    "\n",
    "# mobilenet_model.summary()\n",
    "mobilenet_model.compile(optimizer='adam', loss='categorical_crossentropy', metrics=['accuracy'])\n",
    "\n",
    "# 학습\n",
    "history = mobilenet_model.fit(x_train, y_train, epochs=2, batch_size=32, verbose=1, validation_split=0.1)\n",
    "\n",
    "# 평가\n",
    "print(f\"test 평가 결과 : {mobilenet_model.evaluate(x_test, y_test, verbose=0)}\")"
   ]
  }
 ],
 "metadata": {
  "kernelspec": {
   "display_name": "tf-py3.11-metal",
   "language": "python",
   "name": "python3"
  },
  "language_info": {
   "codemirror_mode": {
    "name": "ipython",
    "version": 3
   },
   "file_extension": ".py",
   "mimetype": "text/x-python",
   "name": "python",
   "nbconvert_exporter": "python",
   "pygments_lexer": "ipython3",
   "version": "3.11.13"
  }
 },
 "nbformat": 4,
 "nbformat_minor": 5
}
