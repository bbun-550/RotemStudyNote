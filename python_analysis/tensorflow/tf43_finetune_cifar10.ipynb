{
 "cells": [
  {
   "cell_type": "code",
   "execution_count": 1,
   "id": "808cc8e6",
   "metadata": {},
   "outputs": [],
   "source": [
    "# BackBone 모델 : MobileNetV2 활용\n",
    "# 희귀한 소량의 이미지 데이터를 CIFAR-10 데이터로 가정\n",
    "# 실습 2 : MobileNetV2 모델 학습시켜 내 이미지 데이터 모델을 잘 분류하는 모델 생성\n",
    "# Transfer Learning, Fine Tunning\n",
    "import tensorflow as tf\n",
    "from tensorflow import keras\n",
    "from tensorflow.keras import layers"
   ]
  },
  {
   "cell_type": "code",
   "execution_count": null,
   "id": "c4d960a3",
   "metadata": {},
   "outputs": [
    {
     "name": "stdout",
     "output_type": "stream",
     "text": [
      "(50000, 32, 32, 3)\n",
      "train data : (50000, 32, 32, 3) (50000, 10)\n",
      "test data : (10000, 32, 32, 3) (10000, 10)\n"
     ]
    }
   ],
   "source": [
    "# 데이터 불러오기\n",
    "(x_train, y_train), (x_test, y_test) = keras.datasets.cifar10.load_data()\n",
    "print(x_train.shape)\n",
    "num_classes = 10\n",
    "\n",
    "# 데이터 스케일링\n",
    "x_train = x_train.astype('float32') / 255.0\n",
    "x_test = x_test.astype('float32') / 255.0\n",
    "\n",
    "y_train = keras.utils.to_categorical(y_train, num_classes)\n",
    "y_test = keras.utils.to_categorical(y_test, num_classes)\n",
    "\n",
    "print('train data :', x_train.shape, y_train.shape)\n",
    "print('test data :', x_test.shape, y_test.shape)"
   ]
  },
  {
   "cell_type": "code",
   "execution_count": 4,
   "id": "1281aed9",
   "metadata": {},
   "outputs": [
    {
     "name": "stderr",
     "output_type": "stream",
     "text": [
      "2025-09-24 12:05:14.054812: I metal_plugin/src/device/metal_device.cc:1154] Metal device set to: Apple M2\n",
      "2025-09-24 12:05:14.055949: I metal_plugin/src/device/metal_device.cc:296] systemMemory: 8.00 GB\n",
      "2025-09-24 12:05:14.055954: I metal_plugin/src/device/metal_device.cc:313] maxCacheSize: 2.67 GB\n",
      "2025-09-24 12:05:14.056003: I tensorflow/core/common_runtime/pluggable_device/pluggable_device_factory.cc:305] Could not identify NUMA node of platform GPU ID 0, defaulting to 0. Your kernel may not have been built with NUMA support.\n",
      "2025-09-24 12:05:14.056182: I tensorflow/core/common_runtime/pluggable_device/pluggable_device_factory.cc:271] Created TensorFlow device (/job:localhost/replica:0/task:0/device:GPU:0 with 0 MB memory) -> physical PluggableDevice (device: 0, name: METAL, pci bus id: <undefined>)\n"
     ]
    },
    {
     "name": "stdout",
     "output_type": "stream",
     "text": [
      "Downloading data from https://storage.googleapis.com/tensorflow/keras-applications/mobilenet_v2/mobilenet_v2_weights_tf_dim_ordering_tf_kernels_1.0_96_no_top.h5\n",
      "\u001b[1m9406464/9406464\u001b[0m \u001b[32m━━━━━━━━━━━━━━━━━━━━\u001b[0m\u001b[37m\u001b[0m \u001b[1m0s\u001b[0m 0us/step\n",
      "Epoch 1/3\n"
     ]
    },
    {
     "name": "stderr",
     "output_type": "stream",
     "text": [
      "2025-09-24 12:05:18.152044: I tensorflow/core/grappler/optimizers/custom_graph_optimizer_registry.cc:117] Plugin optimizer for device_type GPU is enabled.\n"
     ]
    },
    {
     "name": "stdout",
     "output_type": "stream",
     "text": [
      "\u001b[1m1407/1407\u001b[0m \u001b[32m━━━━━━━━━━━━━━━━━━━━\u001b[0m\u001b[37m\u001b[0m \u001b[1m60s\u001b[0m 40ms/step - accuracy: 0.7434 - loss: 0.7419 - val_accuracy: 0.7886 - val_loss: 0.6001\n",
      "Epoch 2/3\n",
      "\u001b[1m1407/1407\u001b[0m \u001b[32m━━━━━━━━━━━━━━━━━━━━\u001b[0m\u001b[37m\u001b[0m \u001b[1m53s\u001b[0m 38ms/step - accuracy: 0.7975 - loss: 0.5816 - val_accuracy: 0.7968 - val_loss: 0.5818\n",
      "Epoch 3/3\n",
      "\u001b[1m1407/1407\u001b[0m \u001b[32m━━━━━━━━━━━━━━━━━━━━\u001b[0m\u001b[37m\u001b[0m \u001b[1m53s\u001b[0m 38ms/step - accuracy: 0.8123 - loss: 0.5377 - val_accuracy: 0.8006 - val_loss: 0.5671\n",
      "test 평가 결과 : [0.5844452381134033, 0.8022000193595886]\n"
     ]
    }
   ],
   "source": [
    "# Transfer Learning (전이학습) : 기본 모델의 가중치는 모두 동결 freeze -> 새로 추가한 분류층만 학습\n",
    "base_model = keras.applications.MobileNetV2(\n",
    "    input_shape=(96, 96, 3),\n",
    "    include_top=False,    # 분류기 부분을 빼고 convolution만 가지고 모델 생성\n",
    "    weights='imagenet',    # 사전 학습된 가중치를 그대로 사용한다\n",
    ")\n",
    "\n",
    "base_model.trainable = False   # 동결 ; 분류기만 쓰겠다. convolution(원래 꺼 사용) 안쓰겠다.\n",
    "\n",
    "# 함수형 api로 모델 생성\n",
    "inputs = keras.Input(shape=(32,32,3))\n",
    "x = layers.Resizing(96, 96)(inputs)\n",
    "x = base_model(x, training=False)\n",
    "x = layers.GlobalAveragePooling2D()(x)   # MaxPooling보다 더 급격하게 feature의 크기를 줄인다.\n",
    "outputs = layers.Dense(num_classes, activation='softmax')(x)\n",
    "model_t1 = keras.Model(inputs, outputs)\n",
    "\n",
    "# 학습\n",
    "model_t1.compile(optimizer='adam', loss='categorical_crossentropy', metrics=['accuracy'])\n",
    "\n",
    "history = model_t1.fit(x_train, y_train, epochs=3, batch_size=32, validation_split=0.1, verbose=1)\n",
    "\n",
    "# 평가\n",
    "print(f\"test 평가 결과 : {model_t1.evaluate(x_test, y_test, verbose=0)}\")"
   ]
  },
  {
   "cell_type": "code",
   "execution_count": 5,
   "id": "3b986f9f",
   "metadata": {},
   "outputs": [
    {
     "name": "stdout",
     "output_type": "stream",
     "text": [
      "Epoch 1/3\n",
      "\u001b[1m1407/1407\u001b[0m \u001b[32m━━━━━━━━━━━━━━━━━━━━\u001b[0m\u001b[37m\u001b[0m \u001b[1m137s\u001b[0m 89ms/step - accuracy: 0.7367 - loss: 0.8502 - val_accuracy: 0.8020 - val_loss: 0.6455\n",
      "Epoch 2/3\n",
      "\u001b[1m1407/1407\u001b[0m \u001b[32m━━━━━━━━━━━━━━━━━━━━\u001b[0m\u001b[37m\u001b[0m \u001b[1m129s\u001b[0m 91ms/step - accuracy: 0.8051 - loss: 0.5947 - val_accuracy: 0.8118 - val_loss: 0.5860\n",
      "Epoch 3/3\n",
      "\u001b[1m1407/1407\u001b[0m \u001b[32m━━━━━━━━━━━━━━━━━━━━\u001b[0m\u001b[37m\u001b[0m \u001b[1m115s\u001b[0m 81ms/step - accuracy: 0.8314 - loss: 0.4944 - val_accuracy: 0.8216 - val_loss: 0.5480\n",
      "test 평가 결과 : [0.5670218467712402, 0.8198999762535095]\n"
     ]
    }
   ],
   "source": [
    "# Fine-Tunning (미세조정)\n",
    "# 베이스 모델 일부 층만 열기(예 : 마지막 30개)\n",
    "\n",
    "for layer in base_model.layers[-30:]:   # 마지막 30개만 trainable=True\n",
    "    layer.trainable = True\n",
    "'''\n",
    "base_model.trainable = True\n",
    "for layer in base_model.layers[:-30]:   # 마지막 30개를 제외하고 나머지 동결\n",
    "    layer.trainable = False\n",
    "'''\n",
    "\n",
    "# 이제 낮은 학습률(learning rate)으로 다시 컴파일\n",
    "# weight를 너무 변화를 주면 안된다.(성능이 잘 나오기 때문이다.)\n",
    "model_t1 = keras.Model(inputs, outputs)\n",
    "\n",
    "# 학습\n",
    "model_t1.compile(optimizer=keras.optimizers.Adam(learning_rate=1e-5), loss='categorical_crossentropy', metrics=['accuracy'])\n",
    "\n",
    "history = model_t1.fit(x_train, y_train, epochs=3, batch_size=32, validation_split=0.1, verbose=1)\n",
    "\n",
    "# 평가\n",
    "print(f\"test 평가 결과 : {model_t1.evaluate(x_test, y_test, verbose=0)}\")"
   ]
  }
 ],
 "metadata": {
  "kernelspec": {
   "display_name": "tf-py3.11-metal",
   "language": "python",
   "name": "python3"
  },
  "language_info": {
   "codemirror_mode": {
    "name": "ipython",
    "version": 3
   },
   "file_extension": ".py",
   "mimetype": "text/x-python",
   "name": "python",
   "nbconvert_exporter": "python",
   "pygments_lexer": "ipython3",
   "version": "3.11.13"
  }
 },
 "nbformat": 4,
 "nbformat_minor": 5
}
